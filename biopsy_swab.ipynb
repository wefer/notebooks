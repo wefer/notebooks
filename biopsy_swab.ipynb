{
 "metadata": {
  "name": ""
 },
 "nbformat": 3,
 "nbformat_minor": 0,
 "worksheets": [
  {
   "cells": [
    {
     "cell_type": "heading",
     "level": 1,
     "metadata": {},
     "source": [
      "Analysing Swab / Biopsy"
     ]
    },
    {
     "cell_type": "code",
     "collapsed": false,
     "input": [
      "import pandas as pd\n",
      "from matplotlib import pyplot as plt\n",
      "from dist_colors import distinguishable_colors\n",
      "from mpl_toolkits.mplot3d import Axes3D\n",
      "import subprocess\n",
      "from scipy import stats\n",
      "import operator\n",
      "import matplotlib as mpl\n",
      "import itertools\n",
      "from matplotlib import lines\n",
      "%matplotlib inline"
     ],
     "language": "python",
     "metadata": {},
     "outputs": [],
     "prompt_number": 52
    },
    {
     "cell_type": "code",
     "collapsed": false,
     "input": [
      "otu = pd.io.parsers.read_csv('psoriasis/cc_otus/otu_table.txt', sep='\\t', index_col=0, header=0)"
     ],
     "language": "python",
     "metadata": {},
     "outputs": [],
     "prompt_number": 2
    },
    {
     "cell_type": "code",
     "collapsed": false,
     "input": [
      "otu.index = ['OTU'+str(x) for x in otu.index]"
     ],
     "language": "python",
     "metadata": {},
     "outputs": [],
     "prompt_number": 3
    },
    {
     "cell_type": "heading",
     "level": 4,
     "metadata": {},
     "source": [
      "Creating order"
     ]
    },
    {
     "cell_type": "code",
     "collapsed": false,
     "input": [
      "#Bord = ['B' + str(num) for num in range(1,17)]\n",
      "#Sord = ['S' + str(num) for num in range(1,17)]\n",
      "\n",
      "dry = [1, 2, 5, 6, 9, 11, 14, 16]\n",
      "seb = [3, 4, 7, 8, 10, 12, 13, 15]\n",
      "bdry = ['B' + str(c) for c in dry]\n",
      "bseb = ['B' + str(c) for c in seb]\n",
      "sdry = ['S' + str(c) for c in dry]\n",
      "sseb = ['S' + str(c) for c in seb]\n",
      "Bord = bdry + bseb\n",
      "Sord = sdry + sseb\n",
      "order = Bord + Sord\n",
      "iters = [iter(Bord), iter(Sord)]\n",
      "interlaced = list(it.next() for it in itertools.cycle(iters))\n"
     ],
     "language": "python",
     "metadata": {},
     "outputs": [],
     "prompt_number": 34
    },
    {
     "cell_type": "heading",
     "level": 4,
     "metadata": {},
     "source": [
      "Parsing OTUs"
     ]
    },
    {
     "cell_type": "code",
     "collapsed": false,
     "input": [
      "faec_dict = otu[['prausnit'in x for x in otu['taxonomy']]].sum(axis=0).to_dict()\n",
      "B_vals = [faec_dict[x] for x in Bord]\n",
      "S_vals = [faec_dict[x] for x in Sord]\n",
      "plt.boxplot([B_vals, S_vals])\n",
      "plt.xticks([1,2], ['Biopsy', 'Swab'])\n",
      "plt.ylabel('Number of reads')\n",
      "plt.title(\"Reads classified as Faecalibacterium prausnitzii\")\n",
      "plt.ylim(0,1200)\n",
      "p_val = \"P-value: %.5f\" % stats.mannwhitneyu(B_vals,S_vals)[1]\n",
      "plt.hlines(1100, 1, 2)\n",
      "plt.vlines(1, 1080, 1100)\n",
      "plt.vlines(2, 1080 , 1100)\n",
      "plt.text(1.5, 1110, p_val, horizontalalignment='center')\n",
      "plt.show()"
     ],
     "language": "python",
     "metadata": {},
     "outputs": [],
     "prompt_number": 231
    },
    {
     "cell_type": "code",
     "collapsed": false,
     "input": [
      "d = {}\n",
      "for item in otu.columns[:-1]:\n",
      "    if \"N\" in item: continue\n",
      "    big_otu = otu[item].idxmax()\n",
      "    nr_reads = otu[item].max()\n",
      "    nr_otus = len(otu[otu[item] > 1])\n",
      "    taxa = otu['taxonomy'][big_otu]\n",
      "    d[item] = {'Largest OTU': big_otu, 'No. of reads' : nr_reads, 'No. of non-singleton OTUs' : nr_otus, 'OTU Last common ancestor' : taxa.split('f__')[-1]}"
     ],
     "language": "python",
     "metadata": {},
     "outputs": [],
     "prompt_number": 36
    },
    {
     "cell_type": "code",
     "collapsed": false,
     "input": [
      "top_otu = pd.DataFrame(d).T"
     ],
     "language": "python",
     "metadata": {},
     "outputs": [],
     "prompt_number": 37
    },
    {
     "cell_type": "code",
     "collapsed": false,
     "input": [
      "top_otu_ordered = pd.DataFrame([top_otu.ix[item] for item in order])"
     ],
     "language": "python",
     "metadata": {},
     "outputs": [],
     "prompt_number": 38
    },
    {
     "cell_type": "code",
     "collapsed": false,
     "input": [
      "top_otu_ordered[['No. of non-singleton OTUs', 'Largest OTU', 'No. of reads', 'OTU Last common ancestor']].head()"
     ],
     "language": "python",
     "metadata": {},
     "outputs": [
      {
       "html": [
        "<div style=\"max-height:1000px;max-width:1500px;overflow:auto;\">\n",
        "<table border=\"1\" class=\"dataframe\">\n",
        "  <thead>\n",
        "    <tr style=\"text-align: right;\">\n",
        "      <th></th>\n",
        "      <th>No. of non-singleton OTUs</th>\n",
        "      <th>Largest OTU</th>\n",
        "      <th>No. of reads</th>\n",
        "      <th>OTU Last common ancestor</th>\n",
        "    </tr>\n",
        "  </thead>\n",
        "  <tbody>\n",
        "    <tr>\n",
        "      <th>B1</th>\n",
        "      <td> 182</td>\n",
        "      <td> OTU1126467</td>\n",
        "      <td> 2599</td>\n",
        "      <td>                      Dietziaceae; g__Dietzia; s__</td>\n",
        "    </tr>\n",
        "    <tr>\n",
        "      <th>B2</th>\n",
        "      <td> 152</td>\n",
        "      <td> OTU4154872</td>\n",
        "      <td> 4019</td>\n",
        "      <td>          [Weeksellaceae]; g__Cloacibacterium; s__</td>\n",
        "    </tr>\n",
        "    <tr>\n",
        "      <th>B5</th>\n",
        "      <td>  85</td>\n",
        "      <td> OTU3385021</td>\n",
        "      <td> 5294</td>\n",
        "      <td> Staphylococcaceae; g__Staphylococcus; s__epide...</td>\n",
        "    </tr>\n",
        "    <tr>\n",
        "      <th>B6</th>\n",
        "      <td> 414</td>\n",
        "      <td>  OTU323106</td>\n",
        "      <td> 3244</td>\n",
        "      <td>                         Lachnospiraceae; g__; s__</td>\n",
        "    </tr>\n",
        "    <tr>\n",
        "      <th>B9</th>\n",
        "      <td> 105</td>\n",
        "      <td> OTU1566691</td>\n",
        "      <td> 2081</td>\n",
        "      <td>             Pseudomonadaceae; g__Pseudomonas; s__</td>\n",
        "    </tr>\n",
        "  </tbody>\n",
        "</table>\n",
        "</div>"
       ],
       "metadata": {},
       "output_type": "pyout",
       "prompt_number": 91,
       "text": [
        "    No. of non-singleton OTUs Largest OTU  No. of reads  \\\n",
        "B1                        182  OTU1126467          2599   \n",
        "B2                        152  OTU4154872          4019   \n",
        "B5                         85  OTU3385021          5294   \n",
        "B6                        414   OTU323106          3244   \n",
        "B9                        105  OTU1566691          2081   \n",
        "\n",
        "                             OTU Last common ancestor  \n",
        "B1                       Dietziaceae; g__Dietzia; s__  \n",
        "B2           [Weeksellaceae]; g__Cloacibacterium; s__  \n",
        "B5  Staphylococcaceae; g__Staphylococcus; s__epide...  \n",
        "B6                          Lachnospiraceae; g__; s__  \n",
        "B9              Pseudomonadaceae; g__Pseudomonas; s__  "
       ]
      }
     ],
     "prompt_number": 91
    },
    {
     "cell_type": "heading",
     "level": 4,
     "metadata": {},
     "source": [
      "Parsing taxa"
     ]
    },
    {
     "cell_type": "code",
     "collapsed": false,
     "input": [
      "dff = pd.io.parsers.read_csv('psoriasis/cc_taxa/otu_table_L5.txt', sep='\\t', index_col=0).T\n",
      "dff2 = pd.DataFrame([dff.ix[item] for item in interlaced])"
     ],
     "language": "python",
     "metadata": {},
     "outputs": [],
     "prompt_number": 45
    },
    {
     "cell_type": "code",
     "collapsed": false,
     "input": [
      "top_family = []\n",
      "for item in dff2.index:\n",
      "    x = dff2.ix[item].to_dict()\n",
      "    for pw in sorted(x.items(), key=operator.itemgetter(1))[-5:]:\n",
      "        top_family.append(pw[0])\n",
      "g_subset = set(top_family)"
     ],
     "language": "python",
     "metadata": {},
     "outputs": [],
     "prompt_number": 46
    },
    {
     "cell_type": "code",
     "collapsed": false,
     "input": [
      "dff3 = dff2[list(g_subset)]\n",
      "dff3.columns = [';'.join(item.split(';')[1:]) for item in dff3.columns]"
     ],
     "language": "python",
     "metadata": {},
     "outputs": [],
     "prompt_number": 47
    },
    {
     "cell_type": "heading",
     "level": 4,
     "metadata": {},
     "source": [
      "Create plot"
     ]
    },
    {
     "cell_type": "code",
     "collapsed": false,
     "input": [
      "g_colors = distinguishable_colors(len(dff3.columns))\n",
      "dff3.plot(kind='bar', stacked=True, color=g_colors, edgecolor='none', grid='off',zorder=3, rot=30)\n",
      "plt.tick_params(bottom='off', top='off', right='off')\n",
      "plt.xlim(0,55)\n",
      "ax = plt.gca()\n",
      "plt.legend(loc=7)\n",
      "\n",
      "ax.set_yticklabels((\"0%\", \"20%\", \"40%\", \"60%\", \"80%\", \"100%\"))\n",
      "ax.set_yticks(ax.get_yticks()[:6])\n",
      "ax.yaxis.grid(True, linestyle='-', which='major', color='lightgrey', alpha=0.5, zorder=0)\n",
      "\n",
      "ax2 = plt.axes([0,0,1,1], axisbg=(1,1,1,0))\n",
      "\n",
      "x = (0.13,0.345)\n",
      "y = (0.07,0.07)\n",
      "\n",
      "line = lines.Line2D(x, y, lw=2., color='k')\n",
      "ax2.add_line(line)\n",
      "\n",
      "\n",
      "x2 = (0.355, 0.355 + 0.345 - 0.13)\n",
      "y2 = (0.07,0.07)\n",
      "line = lines.Line2D(x2, y2, lw=2., color='k')\n",
      "ax2.add_line(line)\n",
      "\n",
      "ax2.text(0.23, 0.055, 'Dry', fontsize=15)\n",
      "ax2.text(0.45, 0.055, 'Sebaceous', fontsize=15)"
     ],
     "language": "python",
     "metadata": {},
     "outputs": [
      {
       "metadata": {},
       "output_type": "pyout",
       "prompt_number": 128,
       "text": [
        "<matplotlib.text.Text at 0x7ff8bdf51cd0>"
       ]
      }
     ],
     "prompt_number": 128
    },
    {
     "cell_type": "code",
     "collapsed": false,
     "input": [
      "fig = plt.gcf()\n",
      "fig.set_dpi(80)"
     ],
     "language": "python",
     "metadata": {},
     "outputs": [],
     "prompt_number": 129
    },
    {
     "cell_type": "code",
     "collapsed": false,
     "input": [
      "plt.show()"
     ],
     "language": "python",
     "metadata": {},
     "outputs": [],
     "prompt_number": 130
    },
    {
     "cell_type": "heading",
     "level": 4,
     "metadata": {},
     "source": [
      "Plotting PCA"
     ]
    },
    {
     "cell_type": "code",
     "collapsed": false,
     "input": [
      "pca = pd.io.parsers.read_csv('psoriasis/cc_beta_div/PCA.txt', sep='\\t', index_col=0, header=0)"
     ],
     "language": "python",
     "metadata": {},
     "outputs": [],
     "prompt_number": 92
    },
    {
     "cell_type": "code",
     "collapsed": false,
     "input": [
      "VE1, VE2 = pca.ix['variation']"
     ],
     "language": "python",
     "metadata": {},
     "outputs": [],
     "prompt_number": 93
    },
    {
     "cell_type": "code",
     "collapsed": false,
     "input": [
      "xcoords_B = list(pca.ix[pca.index.isin(Bord)]['1'])\n",
      "ycoords_B = list(pca.ix[pca.index.isin(Bord)]['2'])\n",
      "xcoords_S = list(pca.ix[pca.index.isin(Sord)]['1'])\n",
      "ycoords_S = list(pca.ix[pca.index.isin(Sord)]['2'])"
     ],
     "language": "python",
     "metadata": {},
     "outputs": [],
     "prompt_number": 94
    },
    {
     "cell_type": "code",
     "collapsed": false,
     "input": [
      "plt.plot(xcoords_B, ycoords_B, marker='o', markersize=7, linestyle='', color='#4bec13', label='Biopsy')\n",
      "plt.plot(xcoords_S, ycoords_S, marker='^', markersize=7, linestyle='', color='red', label='Swab')\n",
      "\n",
      "plt.legend(numpoints=1, fancybox=True)\n",
      "plt.hlines(0, -0.45, 0.5, linestyles='dotted')\n",
      "plt.vlines(0, -0.3, 0.4, linestyles='dotted')\n",
      "plt.ylim(-0.3, 0.4)\n",
      "plt.xlim(-0.45,0.5)\n",
      "xlab = 'PC1 - (%.1f%%)'  % VE1\n",
      "ylab = 'PC2 - (%.1f%%)'  % VE2\n",
      "plt.xlabel(xlab);\n",
      "plt.ylabel(ylab);"
     ],
     "language": "python",
     "metadata": {},
     "outputs": [],
     "prompt_number": 95
    },
    {
     "cell_type": "code",
     "collapsed": false,
     "input": [
      "plt.show()"
     ],
     "language": "python",
     "metadata": {},
     "outputs": [],
     "prompt_number": 96
    },
    {
     "cell_type": "heading",
     "level": 4,
     "metadata": {},
     "source": [
      "Visualizing important OTUs"
     ]
    },
    {
     "cell_type": "code",
     "collapsed": false,
     "input": [
      "imp = pd.read_csv('PSOBS_important.txt', sep='\\t', index_col=0)"
     ],
     "language": "python",
     "metadata": {},
     "outputs": [],
     "prompt_number": 132
    },
    {
     "cell_type": "code",
     "collapsed": false,
     "input": [
      "impB = imp[['B' + str(num) for num in range(1,17)]]"
     ],
     "language": "python",
     "metadata": {},
     "outputs": [],
     "prompt_number": 156
    },
    {
     "cell_type": "code",
     "collapsed": false,
     "input": [
      "impS = imp[['S' + str(num) for num in range(1,17)]]"
     ],
     "language": "python",
     "metadata": {},
     "outputs": [],
     "prompt_number": 157
    },
    {
     "cell_type": "code",
     "collapsed": false,
     "input": [
      "\n",
      "fig, axes = plt.subplots(nrows=3, ncols=3)\n",
      "axes = [x for x in axes.flat]\n",
      "\n",
      "for i ,j in zip(impB.iterrows(), impS.iterrows()):\n",
      "    otuid = list(i)[0]\n",
      "    B = list(list(i)[1])\n",
      "    S = list(list(j)[1])\n",
      "    tit = ';'.join(imp.ix[otuid]['taxonomy'].split(';')[1:])\n",
      "    p_val = stats.mannwhitneyu(B,S)[1]\n",
      "    ax = axes.pop()\n",
      "    bp = ax.boxplot([B,S])\n",
      "    ax.set_xticklabels(['Biopsy', 'Swab'])\n",
      "    ax.set_title(tit, fontdict={'size' : 9})\n",
      "    ax.tick_params(top='off', bottom='off', right='off')\n",
      "    plt.setp(bp['boxes'], color='black')\n",
      "    plt.setp(bp['whiskers'], color='black')\n",
      "    plt.setp(bp['fliers'], color='black', marker='+')\n",
      "    plt.setp(bp['medians'], color='black')\n",
      "    "
     ],
     "language": "python",
     "metadata": {},
     "outputs": [],
     "prompt_number": 254
    },
    {
     "cell_type": "code",
     "collapsed": false,
     "input": [
      "plt.show()"
     ],
     "language": "python",
     "metadata": {},
     "outputs": [],
     "prompt_number": 255
    },
    {
     "cell_type": "code",
     "collapsed": false,
     "input": [],
     "language": "python",
     "metadata": {},
     "outputs": [],
     "prompt_number": 206
    },
    {
     "cell_type": "code",
     "collapsed": false,
     "input": [],
     "language": "python",
     "metadata": {},
     "outputs": []
    }
   ],
   "metadata": {}
  }
 ]
}
